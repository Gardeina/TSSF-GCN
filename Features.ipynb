{
 "cells": [
  {
   "cell_type": "code",
   "execution_count": null,
   "id": "fa423921-9edb-4dd5-9f1f-958275af63d7",
   "metadata": {},
   "outputs": [],
   "source": [
    "from tqdm import tqdm\n",
    "import glob\n",
    "import os\n",
    "from deepchem.feat import RdkitGridFeaturizer\n",
    "import oddt\n",
    "from joblib import Parallel,delayed\n",
    "from oddt.fingerprints import PLEC\n",
    "from rdkit import Chem\n",
    "from rdkit.Chem import AllChem\n",
    "import numpy as np\n",
    "import scipy\n",
    "import deepchem as dc"
   ]
  },
  {
   "cell_type": "markdown",
   "id": "061fb9c2-0118-4f70-a4b0-c24b46600c3c",
   "metadata": {},
   "source": [
    "# PLEC "
   ]
  },
  {
   "cell_type": "code",
   "execution_count": null,
   "id": "a8aecf98-6e8d-4a24-8253-029d140088bd",
   "metadata": {},
   "outputs": [],
   "source": [
    "protein = next(oddt.toolkit.readfile('pdb', '/home/pathway/protein.pdb'))\n",
    "\n",
    "def parallel_plec(lig):\n",
    "    print(f\"process ligand：{lig}\")\n",
    "    ligand = next(oddt.toolkit.readfile('sdf', lig))\n",
    "    if ligand is None:\n",
    "        print(f\"Unable to read ligand file：{lig}\")\n",
    "        return None   \n",
    "    feature = PLEC(ligand, protein=protein, size=4092, \n",
    "                   depth_protein=4, depth_ligand=2,\n",
    "                   distance_cutoff=4.5, sparse=False)\n",
    "    return feature"
   ]
  },
  {
   "cell_type": "markdown",
   "id": "6994fe22-e7a1-479b-b72f-1fd969bc75ef",
   "metadata": {},
   "source": [
    "### Train_PLEC"
   ]
  },
  {
   "cell_type": "code",
   "execution_count": null,
   "id": "d7e57275-8e36-41e7-b0d0-062e8adfac9e",
   "metadata": {},
   "outputs": [],
   "source": [
    "os.chdir('/home/pathway/Train_data/')\n",
    "train_sdf = glob.glob('*.sdf')\n",
    "train_sdf.sort(key=lambda x: int(''.join(filter(str.isdigit, x))))\n",
    "train_sdf"
   ]
  },
  {
   "cell_type": "code",
   "execution_count": null,
   "id": "8dd60e1b-d978-4033-a313-02257bb1e469",
   "metadata": {},
   "outputs": [],
   "source": [
    "%time\n",
    "train_plec = Parallel(n_jobs = 16, backend = \"multiprocessing\")(delayed(parallel_plec)(sdf) for sdf in tqdm(train_sdf))"
   ]
  },
  {
   "cell_type": "code",
   "execution_count": null,
   "id": "2b3d02fe-df38-40eb-b759-1fa351ce3508",
   "metadata": {},
   "outputs": [],
   "source": [
    "train_plec_filtered=[arr for arr in train_plec if arr is not None]\n",
    "print(len(train_plec_filtered))"
   ]
  },
  {
   "cell_type": "code",
   "execution_count": null,
   "id": "6e4be595-818a-41d4-a398-91288905fb71",
   "metadata": {},
   "outputs": [],
   "source": [
    "train_plec_matrix=np.array(train_plec_filtered)\n",
    "np.savetxt('/home/pathway/train_plec.txt',train_plec_matrix)"
   ]
  },
  {
   "cell_type": "markdown",
   "id": "ad242cb2-1ea8-43ba-b69a-2c57a0650281",
   "metadata": {},
   "source": [
    "### Test_PLEC"
   ]
  },
  {
   "cell_type": "code",
   "execution_count": null,
   "id": "9a1cd8a4-3db1-4862-a306-b202b3734ded",
   "metadata": {},
   "outputs": [],
   "source": [
    "os.chdir('/home/pathway/Test_data/')\n",
    "test_sdf = glob.glob('*.sdf')\n",
    "test_sdf.sort(key=lambda x: int(''.join(filter(str.isdigit, x))))\n",
    "test_sdf"
   ]
  },
  {
   "cell_type": "code",
   "execution_count": null,
   "id": "81a84a07-405c-43ab-8017-eb8f63ed2b3a",
   "metadata": {},
   "outputs": [],
   "source": [
    "%time\n",
    "test_plec = Parallel(n_jobs = 16, backend = \"multiprocessing\")(delayed(parallel_plec)(sdf) for sdf in tqdm(test_sdf))"
   ]
  },
  {
   "cell_type": "code",
   "execution_count": null,
   "id": "a231da96-83dc-4aea-af9c-5a5d900be4bd",
   "metadata": {},
   "outputs": [],
   "source": [
    "test_plec_filtered=[arr for arr in test_plec if arr is not None]\n",
    "print(len(test_plec_filtered))"
   ]
  },
  {
   "cell_type": "code",
   "execution_count": null,
   "id": "d95bb843-f362-4259-948d-ed8bf01d0792",
   "metadata": {},
   "outputs": [],
   "source": [
    "test_plec_matrix=np.array(test_plec_filtered)\n",
    "np.savetxt('/home/pathway/test_plec.txt',test_plec_matrix)"
   ]
  },
  {
   "cell_type": "markdown",
   "id": "03387d10-316f-454c-9370-cd9b23e18efa",
   "metadata": {},
   "source": [
    "# ConvMol"
   ]
  },
  {
   "cell_type": "markdown",
   "id": "6fd02696-c58e-4b0c-96c9-c2c3d22b4efc",
   "metadata": {},
   "source": [
    "### Excute the following code for the training set and test set respectively."
   ]
  },
  {
   "cell_type": "code",
   "execution_count": null,
   "id": "63fe8f47-0c66-489c-9709-60e5a17e0460",
   "metadata": {},
   "outputs": [],
   "source": [
    "mols=[]\n",
    "for sdf in train_sdf: # or 'for sdf in test_sdf':\n",
    "    suppl=Chem.SDMolSupplier(sdf)\n",
    "    for mol in suppl:\n",
    "        if mol is not None:\n",
    "            mols.append(mol)"
   ]
  },
  {
   "cell_type": "code",
   "execution_count": null,
   "id": "f6a0c8d0-7c27-4344-879e-aba7333b6b17",
   "metadata": {},
   "outputs": [],
   "source": [
    "featurizer_convmol=dc.feat.ConvMolFeaturizer()\n",
    "X=featurizer_convmol.featurize(mols)"
   ]
  },
  {
   "cell_type": "code",
   "execution_count": null,
   "id": "870e97d6-f17f-4ace-bd1f-01b917db0d30",
   "metadata": {},
   "outputs": [],
   "source": [
    "adjacency_matrices=[]\n",
    "node_features=[]\n",
    "for i,convmol in enumerate(X):\n",
    "    k=convmol.get_adjacency_list()\n",
    "    k_=np.zeros((len(k),len(k)))\n",
    "    for j in range(len(k)):\n",
    "        for l in k[j]:\n",
    "            k_[j,l]=1\n",
    "    adjacency_matrices.append(k_)\n",
    "\n",
    "    atom_features=convmol.get_atom_features()\n",
    "    node_features.append(atom_features)\n",
    "    \n",
    "    print(f'Molecule {i} adjancency dimensions:{k_.shape}')\n",
    "    print(f'Molecule {i} atom features dimensions:{atom_features.shape}')"
   ]
  },
  {
   "cell_type": "code",
   "execution_count": null,
   "id": "90f43378-60fd-4abe-b067-c238f5f0b76f",
   "metadata": {},
   "outputs": [],
   "source": [
    "np.savez('/home/pathway/train_ConvMol.npz',adjacency_matrices=adjacency_matrices,node_features=node_features)\n",
    "#np.savez('/home/pathway/test_ConvMol.npz',adjacency_matrices=adjacency_matrices,node_features=node_features)"
   ]
  }
 ],
 "metadata": {
  "kernelspec": {
   "display_name": "python3.7.12",
   "language": "python",
   "name": "python3.7.12"
  },
  "language_info": {
   "codemirror_mode": {
    "name": "ipython",
    "version": 3
   },
   "file_extension": ".py",
   "mimetype": "text/x-python",
   "name": "python",
   "nbconvert_exporter": "python",
   "pygments_lexer": "ipython3",
   "version": "3.7.12"
  }
 },
 "nbformat": 4,
 "nbformat_minor": 5
}
