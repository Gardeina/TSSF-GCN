{
 "cells": [
  {
   "cell_type": "code",
   "execution_count": null,
   "id": "81677548-ed3c-43e6-a088-cf84c27371a5",
   "metadata": {},
   "outputs": [],
   "source": [
    "import pandas as pd\n",
    "from openbabel import pybel\n",
    "import os\n",
    "from pymol import cmd\n",
    "import py3Dmol\n",
    "from rdkit import Chem\n",
    "from rdkit.Chem import AllChem\n",
    "from joblib import Parallel, delayed\n",
    "from tqdm import tqdm\n",
    "import glob\n",
    "import sys, os, random\n",
    "sys.path.insert(1,'/your/pathway/for/Jupyter_Dock-main/Jupyter_Dock-main/utilities/')\n",
    "from my_utils import getbox, generate_ledock_file, dok_to_sdf\n",
    "import warnings\n",
    "warnings.filterwarnings(\"ignore\")\n",
    "\n",
    "%config Completer.use_jedi = False\n",
    "import subprocess"
   ]
  },
  {
   "cell_type": "markdown",
   "id": "b2ff7115-224c-4b99-b132-23eee5041e29",
   "metadata": {},
   "source": [
    "### The following code should be executed separately for active,inactive and decoy molecularity respectively."
   ]
  },
  {
   "cell_type": "markdown",
   "id": "a44331e4-86dc-41fb-85a2-abc0638c0594",
   "metadata": {},
   "source": [
    "# Generate mol2 files"
   ]
  },
  {
   "cell_type": "code",
   "execution_count": null,
   "id": "b975c98b-c63d-4e5a-a278-b855447c32d8",
   "metadata": {},
   "outputs": [],
   "source": [
    "molecules=pd.read_csv('/pathway/for/activate_inactive_decoys.csv/')\n",
    "smiles=molecules['smiles'].tolist()"
   ]
  },
  {
   "cell_type": "code",
   "execution_count": null,
   "id": "e3640617-7cd4-4e08-9b11-9b3029ad61f2",
   "metadata": {},
   "outputs": [],
   "source": [
    "for index,smi in enumerate(molecules):\n",
    "    mol=pybel.readstring(string=smi,format='smiles')\n",
    "    mol.title='active_'+str(index) #mark the correct prefix\n",
    "    mol.make3D('mmff94s')\n",
    "    mol.localopt(forcefield='mmff94s', steps=500)\n",
    "    output_folder='/the/output/folder/pathway/smiles_mol2/'\n",
    "    os.makedirs(output_folder,exist_ok=True)\n",
    "    out=pybel.Outputfile(filename=output_folder+mol.title+'.mol2',format='mol2',overwrite=True)\n",
    "    out.write(mol)\n",
    "    out.close()"
   ]
  },
  {
   "cell_type": "markdown",
   "id": "a929a243-1859-4d36-8bb8-60567dfb87ca",
   "metadata": {},
   "source": [
    "# Generic functions"
   ]
  },
  {
   "cell_type": "markdown",
   "id": "c7973a9d-b896-4489-bb6f-3791274d86ed",
   "metadata": {},
   "source": [
    "### Preparate the docking files"
   ]
  },
  {
   "cell_type": "code",
   "execution_count": null,
   "id": "d5f5f285-798d-4187-8252-bce6ec4192b6",
   "metadata": {},
   "outputs": [],
   "source": [
    "receptor='/your/target/file/pathway/protein.pdb'\n",
    "output_folder='/smina/output/dockded/'\n",
    "os.makedirs(output_active_folder,exist_ok=True)\n",
    "smile_folder='/the/output/folder/pathway/smiles_mol2/'"
   ]
  },
  {
   "cell_type": "markdown",
   "id": "c698f76d-0b68-4461-b103-6c6b58860a3c",
   "metadata": {},
   "source": [
    "### Smina"
   ]
  },
  {
   "cell_type": "code",
   "execution_count": null,
   "id": "e3bbcd33-5f3d-4437-872a-de11b3459225",
   "metadata": {},
   "outputs": [],
   "source": [
    "def run_smina(lig):\n",
    "    input_file = os.path.join(smile_folder,lig)\n",
    "    cmd.load(filename=receptor,format='pdb',object='prot')\n",
    "    cmd.cmd.load(filename=input_file,format='mol2',object='lig')\n",
    "    center,size=getbox(selection='lig',extending=8,software='vina')\n",
    "    cmd.delete('all')\n",
    "    output_folder=output_folder\n",
    "    molecular_index = os.path.splitext(lig)[0]\n",
    "    output_file =os.path.join(output_folder ,f'{molecular_index}_docked.sdf')\n",
    "    smina_command= f\"/your/pathway/for/bin/smina --ligand {input_file} --receptor {receptor} --out {output_file} --center_x {center['center_x']} --center_y {center['center_y']} --center_z {center['center_z']} --size_x {size['size_x']} --size_y {size['size_x']} --size_z {size['size_x']} --num_modes 1 --exhaustiveness 8 --seed 0\"\n",
    "    subprocess.run(smina_command, shell=True)"
   ]
  },
  {
   "cell_type": "code",
   "execution_count": null,
   "id": "f43a5d4c-976f-41a3-a219-c389d38a2c5b",
   "metadata": {},
   "outputs": [],
   "source": [
    "molecular_files=[f for f in os.listdir(smile_folder) if f.endswith(\".mol2\")]"
   ]
  },
  {
   "cell_type": "code",
   "execution_count": null,
   "id": "45c88a0d-52a0-444d-86c4-2dd741e8517e",
   "metadata": {},
   "outputs": [],
   "source": [
    "%%time\n",
    "Parallel(n_jobs = 40, backend = 'multiprocessing')(delayed(run_smina)(lig) for lig in tqdm(molecular_files))"
   ]
  },
  {
   "cell_type": "markdown",
   "id": "4de04e66-f58a-4147-b664-a75904549517",
   "metadata": {},
   "source": [
    "### CNN-Score"
   ]
  },
  {
   "cell_type": "code",
   "execution_count": null,
   "id": "233222c3-46a5-48b2-9336-1275046c7e78",
   "metadata": {},
   "outputs": [],
   "source": [
    "def run_cnn(lig):\n",
    "    input_file = os.path.join(smile_folder,lig)\n",
    "    output_folder=output_folder\n",
    "    molecular_index = os.path.splitext(lig)[0]\n",
    "    output_file =os.path.join(output_folder ,f'{molecular_index}_docked.txt')\n",
    "    cnn_command= f\"/home/pathway/gnina --score_only -r {receptor} -l {input_file} > {output_file}\"\n",
    "    subprocess.run(cnn_command, shell=True)"
   ]
  },
  {
   "cell_type": "code",
   "execution_count": null,
   "id": "410fa357-820e-48cf-82fa-8cbb88c42ee5",
   "metadata": {},
   "outputs": [],
   "source": [
    "molecular_files=[f for f in os.listdir(smile_folder) if f.endswith(\".mol2\")]"
   ]
  },
  {
   "cell_type": "code",
   "execution_count": null,
   "id": "fff54d8e-c60a-44de-87f1-90a91c3ee108",
   "metadata": {},
   "outputs": [],
   "source": [
    "%%time\n",
    "Parallel(n_jobs = 40, backend = 'multiprocessing')(delayed(run_cnn)(lig) for lig in tqdm(molecular_files))"
   ]
  },
  {
   "cell_type": "markdown",
   "id": "427002fb-a35e-47df-b0ec-fd6fbdf322d5",
   "metadata": {},
   "source": [
    "### RF-SCORE-VS"
   ]
  },
  {
   "cell_type": "code",
   "execution_count": null,
   "id": "188b0d72-5a37-4670-afe6-e7d95244c085",
   "metadata": {},
   "outputs": [],
   "source": [
    "def run_rfscore(lig):\n",
    "    input_file = os.path.join(smile_folder,lig)\n",
    "    output_folder=output_folder\n",
    "    molecular_index = os.path.splitext(lig)[0]\n",
    "    output_file =os.path.join(output_folder ,f'{molecular_index}_docked.sdf')\n",
    "    rfscore_command= f\"/home/pathway/rf-score-vs --receptor {receptor} {input_file} -O {output_file}\"\n",
    "    subprocess.run(rfscore_command, shell=True)"
   ]
  },
  {
   "cell_type": "code",
   "execution_count": null,
   "id": "03ffc72a-c05a-4172-8406-fc02a4418e79",
   "metadata": {},
   "outputs": [],
   "source": [
    "molecular_files=[f for f in os.listdir(smile_active_folder) if f.endswith(\".mol2\")]"
   ]
  },
  {
   "cell_type": "code",
   "execution_count": null,
   "id": "54b548ce-5f45-4734-85cd-df38796af349",
   "metadata": {},
   "outputs": [],
   "source": [
    "%%time\n",
    "Parallel(n_jobs = 40, backend = 'multiprocessing')(delayed(run_rfscore)(lig) for lig in tqdm(molecular_files))"
   ]
  }
 ],
 "metadata": {
  "kernelspec": {
   "display_name": "python3.7.12",
   "language": "python",
   "name": "python3.7.12"
  },
  "language_info": {
   "codemirror_mode": {
    "name": "ipython",
    "version": 3
   },
   "file_extension": ".py",
   "mimetype": "text/x-python",
   "name": "python",
   "nbconvert_exporter": "python",
   "pygments_lexer": "ipython3",
   "version": "3.7.12"
  }
 },
 "nbformat": 4,
 "nbformat_minor": 5
}
