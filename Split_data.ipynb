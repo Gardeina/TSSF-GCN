{
 "cells": [
  {
   "cell_type": "code",
   "execution_count": null,
   "id": "2a4385a1-9403-414a-a996-104324bace5c",
   "metadata": {},
   "outputs": [],
   "source": [
    "import pandas as pd\n",
    "import numpy as np\n",
    "import deepchem as dc\n",
    "import rdkit\n",
    "from rdkit import Chem\n",
    "from rdkit.Chem import AllChem"
   ]
  },
  {
   "cell_type": "code",
   "execution_count": null,
   "id": "42f38580-1d42-44d7-a43b-76539db41f93",
   "metadata": {},
   "outputs": [],
   "source": [
    "inactive=pd.read_csv('/home/pathway/inactive_smiles.smi',header=None)\n",
    "decoy=pd.read_csv('/home/pathway/decoy_smiles.smi',header=None)\n",
    "#This study don't need to splite the active molecules."
   ]
  },
  {
   "cell_type": "code",
   "execution_count": null,
   "id": "dd850267-b31a-4b15-92b0-b9db53f0e7a7",
   "metadata": {},
   "outputs": [],
   "source": [
    "inactive['num']=range(0,x)\n",
    "decoy['num']=range(0,x)\n",
    "#Replace 'x' with the number of molecules."
   ]
  },
  {
   "cell_type": "code",
   "execution_count": null,
   "id": "db6d3168-8479-4a15-abb6-a35edda5bd6d",
   "metadata": {},
   "outputs": [],
   "source": [
    "inactive['type']='inactive'\n",
    "decoy['type']='decoy'"
   ]
  },
  {
   "cell_type": "code",
   "execution_count": null,
   "id": "deff3609-7db6-480b-b6db-feb33fb83ad7",
   "metadata": {},
   "outputs": [],
   "source": [
    "all=pd.concat([decoy,inactive])"
   ]
  },
  {
   "cell_type": "code",
   "execution_count": null,
   "id": "b2bf73e2-e24e-47e8-9f79-5ff7a71fef7a",
   "metadata": {},
   "outputs": [],
   "source": [
    "from rdkit import Chem\n",
    "from rdkit.Chem import AllChem\n",
    "\n",
    "mol_all= [Chem.MolFromSmiles(x) for x in all[0]]\n",
    "fp_all = [AllChem.GetMorganFingerprintAsBitVect(x,radius=2,nBits=2048) for x in mol_all]"
   ]
  },
  {
   "cell_type": "code",
   "execution_count": null,
   "id": "aa6027d5-0a54-4acd-b36f-cf46d34a8444",
   "metadata": {},
   "outputs": [],
   "source": [
    "def create_deepchem_dataset(fingerprints):\n",
    "    X = np.array(fingerprints)\n",
    "    y = all['num']  # Assuming binary classification, adjust as needed\n",
    "    w = all['type']\n",
    "    ids = all[0]\n",
    "    dataset = dc.data.NumpyDataset(X, y, w, ids)\n",
    "    return dataset\n",
    "\n",
    "def split_dataset(dataset, seed=42):\n",
    "    splitter = dc.splits.ButinaSplitter()\n",
    "    train_dataset, test_dataset = splitter.train_test_split(dataset, frac_train=0.8, seed=seed)\n",
    "    return train_dataset, test_dataset\n",
    "\n",
    "# Create DeepChem dataset\n",
    "dataset = create_deepchem_dataset(fp_all)\n",
    "\n",
    "# Split dataset\n",
    "train_dataset, test_dataset = split_dataset(dataset)\n",
    "\n",
    "print(f\"Training set size: {len(train_dataset)}\")\n",
    "print(f\"Test set size: {len(test_dataset)}\")"
   ]
  },
  {
   "cell_type": "code",
   "execution_count": null,
   "id": "6c760399-c82a-4d5a-a335-3c76c055f488",
   "metadata": {},
   "outputs": [],
   "source": [
    "train=train_dataset.to_dataframe()\n",
    "test=test_dataset.to_dataframe()"
   ]
  },
  {
   "cell_type": "markdown",
   "id": "2196bcad-cb56-4121-abee-05aefbce5600",
   "metadata": {},
   "source": [
    "### Next,the output files from the previous Smina docking are separated by train/test into their respective folders according to the index."
   ]
  },
  {
   "cell_type": "code",
   "execution_count": null,
   "id": "843ff9a8-c51e-4c82-975e-d70ca91b1a01",
   "metadata": {},
   "outputs": [],
   "source": []
  }
 ],
 "metadata": {
  "kernelspec": {
   "display_name": "python3.7.12",
   "language": "python",
   "name": "python3.7.12"
  },
  "language_info": {
   "codemirror_mode": {
    "name": "ipython",
    "version": 3
   },
   "file_extension": ".py",
   "mimetype": "text/x-python",
   "name": "python",
   "nbconvert_exporter": "python",
   "pygments_lexer": "ipython3",
   "version": "3.7.12"
  }
 },
 "nbformat": 4,
 "nbformat_minor": 5
}
