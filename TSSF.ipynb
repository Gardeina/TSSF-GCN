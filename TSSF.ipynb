{
 "cells": [
  {
   "cell_type": "code",
   "execution_count": null,
   "id": "2f0ed0f8-b15e-43f5-9a5d-b30808d92f61",
   "metadata": {},
   "outputs": [],
   "source": [
    "import numpy as np\n",
    "import pandas as pd\n",
    "from tqdm import tqdm\n",
    "import glob\n",
    "import os\n",
    "import rdkit\n",
    "import concurrent.futures\n",
    "import random\n",
    "from scipy import stats\n",
    "from sklearn import preprocessing\n",
    "from skopt import BayesSearchCV\n",
    "from sklearn.svm import SVC\n",
    "from sklearn.ensemble import RandomForestClassifier\n",
    "from sklearn.utils import shuffle\n",
    "from sklearn.metrics import matthews_corrcoef, precision_recall_curve, accuracy_score, auc\n",
    "from sklearn.model_selection import cross_val_predict\n",
    "from sklearn.neural_network import MLPClassifier\n",
    "from sklearn.utils import parallel_backend\n",
    "from xgboost.sklearn import XGBClassifier\n",
    "from rdkit import Chem\n",
    "from rdkit.Chem import AllChem\n",
    "import deepchem as dc\n",
    "from deepchem.utils import download_url, load_from_disk\n",
    "from deepchem.utils.vina_utils import prepare_inputs\n",
    "from joblib import Parallel, delayed\n",
    "import tempfile\n",
    "import tensorflow as tf\n",
    "from tensorflow import keras\n",
    "from tensorflow.keras import layers, optimizers, regularizers\n",
    "from tensorflow.keras.layers import Dense, BatchNormalization, Dropout, Activation\n",
    "from tensorflow.keras.optimizers import Adadelta, Adam, RMSprop\n",
    "import hyperopt\n",
    "from hyperopt import hp, tpe, Trials, fmin, STATUS_OK, space_eval\n",
    "from pandas.core.frame import DataFrame\n",
    "\n",
    "import torch\n",
    "import torch.nn.functional as F\n",
    "from torch_geometric.nn import GCNConv\n",
    "from torch_geometric.data import DataLoader\n",
    "from torch_geometric.nn import global_mean_pool\n",
    "from torch_geometric.data import Data"
   ]
  },
  {
   "cell_type": "markdown",
   "id": "61b51ddd-4b0e-4a35-aebc-e29997a76f8b",
   "metadata": {},
   "source": [
    "# Load the features"
   ]
  },
  {
   "cell_type": "code",
   "execution_count": null,
   "id": "7084fe32-7922-438e-b2b4-9ff0e5efb42f",
   "metadata": {},
   "outputs": [],
   "source": [
    "train_plec=np.loadtxt('/home/pathway/train_plec.txt')\n",
    "test_plec=np.loadtxt('/home/pathway/test_plec.txt')"
   ]
  },
  {
   "cell_type": "code",
   "execution_count": null,
   "id": "43d845fa-2ae4-44f0-9cd9-0f53d501e4da",
   "metadata": {},
   "outputs": [],
   "source": [
    "train_df=pd.read_csv('/home/pathway/train.csv') \n",
    "test_df=pd.read_csv('/home/pathway/test.csv')"
   ]
  },
  {
   "cell_type": "code",
   "execution_count": null,
   "id": "48758416-0278-4d01-aeaf-5993cb619624",
   "metadata": {},
   "outputs": [],
   "source": [
    "Train_class=train_df['activity']\n",
    "Test_class=test_df['activity']\n",
    "# The labels for PLEC-ML"
   ]
  },
  {
   "cell_type": "code",
   "execution_count": null,
   "id": "27121c1d-4f21-48ff-9635-9dcd6c664e5b",
   "metadata": {},
   "outputs": [],
   "source": [
    "train_conv = np.load('/home/wangbo/cgas_new/Feature/Split_data2/train_ConvMol.npz', allow_pickle=True)\n",
    "test_conv = np.load('/home/wangbo/cgas_new/Feature/Split_data2/test_ConvMol.npz', allow_pickle=True)\n",
    "train_adj = train_conv['adjacency_matrices']\n",
    "test_adj = test_conv['adjacency_matrices']\n",
    "train_node = train_conv['node_features']\n",
    "test_node = test_conv['node_features']"
   ]
  },
  {
   "cell_type": "code",
   "execution_count": null,
   "id": "eac98e3a-94ea-483c-9e6f-598c3bd86a76",
   "metadata": {},
   "outputs": [],
   "source": [
    "label_mapping = {'Active': 1, 'Inactive': 0}\n",
    "train_df['activity'] = train_df['activity'].map(label_mapping)\n",
    "test_df['activity'] = test_df['activity'].map(label_mapping)\n",
    "train_labels = torch.tensor(train_df['activity'].values, dtype=torch.long)\n",
    "test_labels = torch.tensor(test_df['activity'].values, dtype=torch.long)\n",
    "# The labels for ConvMol-GCN"
   ]
  },
  {
   "cell_type": "markdown",
   "id": "fa02d1dc-0525-4fa9-a51a-163174ee9532",
   "metadata": {},
   "source": [
    "# PLEC-ML"
   ]
  },
  {
   "cell_type": "markdown",
   "id": "e4a3bdae-f6ca-46f8-bd4b-a005bb1746a5",
   "metadata": {},
   "source": [
    "### RF algorithm"
   ]
  },
  {
   "cell_type": "code",
   "execution_count": null,
   "id": "cd5820b8-b0d3-4f72-b60f-e766d5bf4291",
   "metadata": {},
   "outputs": [],
   "source": [
    "PR_AUC_rf=[]\n",
    "for i in range(10):\n",
    "    rf_model=RandomForestClassifier(n_estimators=400,max_features='sqrt',n_jobs=30)\n",
    "    rf_model.fit(train_plec,Train_class)\n",
    "\n",
    "    predicition_test_rf_class=rf_model.predict(test_plec)\n",
    "    predicition_test_rf_prob=rf_model.predict_proba(test_plec)\n",
    "\n",
    "    feature_result_rf=pd.DataFrame({'Active_Prob':predicition_test_rf_prob[:,0],\n",
    "                                'Inactive_Prob':predicition_test_rf_prob[:,1],\n",
    "                                'Predicted_Class':predicition_test_rf_class,\n",
    "                                'Real_Class':Test_class})\n",
    "\n",
    "    precision_rf,recall_rf,threshold_rf=precision_recall_curve(Test_class,feature_result_rf['Active_Prob'],pos_label='Active')\n",
    "    pr_auc_rf=auc(recall_rf,precision_rf)\n",
    "\n",
    "    PR_AUC_rf.append(pr_auc_rf)\n",
    "\n",
    "    print(f'{i+1}-PR_AUC:{pr_auc_rf}')\n",
    "PR_AUC=pd.DataFrame(PR_AUC_rf,columns=['RF'])"
   ]
  },
  {
   "cell_type": "code",
   "execution_count": null,
   "id": "005beab8-afdd-4290-901c-80137ede19e8",
   "metadata": {},
   "outputs": [],
   "source": [
    "rf_precision_recall=pd.DataFrame({'Precision':precision_rf,'Recall':recall_rf})\n",
    "feature_result_rf.to_csv('/home/pathway/rf_result.csv',index=False)\n",
    "rf_precision_recall.to_csv('/home/pathway/rf_precison_recall.csv',index=False)"
   ]
  },
  {
   "cell_type": "markdown",
   "id": "f6d2618c-245e-475d-ae42-dbbeec451863",
   "metadata": {},
   "source": [
    "### XGB"
   ]
  },
  {
   "cell_type": "code",
   "execution_count": null,
   "id": "33db2492-ebe7-4712-a5d5-b9cfbbb3ff38",
   "metadata": {},
   "outputs": [],
   "source": [
    "PR_AUC_xgb=[]\n",
    "for i in range(10):\n",
    "    label_mapping={'Active':1,'Inactive':0}\n",
    "    Train_class_encoded=np.array([label_mapping[label] for label in Train_class])\n",
    "    \n",
    "    xgb_model=XGBClassifier(n_jobs=40,subsample=np.random.uniform(low=0.5,high=1.0))\n",
    "    xgb_model.fit(np.array(train_plec),Train_class_encoded)\n",
    "\n",
    "    predicition_test_xgb_class=xgb_model.predict(np.array(test_plec))\n",
    "    predicition_test_xgb_prob=xgb_model.predict_proba(np.array(test_plec))\n",
    "\n",
    "    inverse_label_mapping={v:k for k,v in label_mapping.items()}\n",
    "    predicted_labels=np.array([inverse_label_mapping[pred] for pred in predicition_test_xgb_class])\n",
    "\n",
    "    feature_result_xgb=pd.DataFrame({'Active_Prob':predicition_test_xgb_prob[:,1],\n",
    "                                'Inactive_Prob':predicition_test_xgb_prob[:,0],\n",
    "                                'Predicted_Class':predicted_labels,#predicition_test_xgb_feature_class,\n",
    "                                'Real_Class':Test_class})\n",
    "    precision_xgb,recall_xgb,threshold_xgb=precision_recall_curve([label_mapping[label] for label in Test_class],feature_result_xgb['Active_Prob'],pos_label=1)\n",
    "    xgb_precison_recall=pd.DataFrame({'Precision':precision_xgb,'Recall':recall_xgb})\n",
    "\n",
    "    pr_auc_xgb=auc(recall_xgb,precision_xgb)\n",
    "\n",
    "    PR_AUC_xgb.append(pr_auc_xgb)\n",
    "\n",
    "    print(f'{i+1}-PR_AUC:{pr_auc_xgb}')"
   ]
  },
  {
   "cell_type": "code",
   "execution_count": null,
   "id": "64dd60f3-487a-4698-b093-8c5dea8b9ce7",
   "metadata": {},
   "outputs": [],
   "source": [
    "xgb_precision_recall=pd.DataFrame({'Precision':precision_xgb,'Recall':recall_xgb})\n",
    "feature_result_xgb.to_csv('/home/pathway/xgb_result.csv',index=False)\n",
    "xgb_precision_recall.to_csv('/home/pathway/xgb_precison_recall.csv',index=False)"
   ]
  },
  {
   "cell_type": "markdown",
   "id": "bbf72bc3-9212-4809-b205-9dac4357bc1f",
   "metadata": {},
   "source": [
    "### ANN"
   ]
  },
  {
   "cell_type": "code",
   "execution_count": null,
   "id": "a814609e-6c98-4471-b16d-5134cec1d8a1",
   "metadata": {},
   "outputs": [],
   "source": [
    "PR_AUC_ann=[]\n",
    "for i in range(10):\n",
    "    ann_model=MLPClassifier(max_iter=9000)\n",
    "    ann_model.fit(train_plec,Train_class)\n",
    "\n",
    "    predicition_test_ann_class=ann_model.predict(test_plec)\n",
    "    predicition_test_ann_prob=ann_model.predict_proba(test_plec)\n",
    "\n",
    "    feature_result_ann=pd.DataFrame({'Active_Prob':predicition_test_ann_prob[:,0],\n",
    "                                'Inactive_Prob':predicition_test_ann_prob[:,1],\n",
    "                                'Predicted_Class':predicition_test_ann_class,\n",
    "                                'Real_Class':Test_class})\n",
    "\n",
    "    precision_ann,recall_ann,threshold_ann=precision_recall_curve(Test_class,feature_result_ann['Active_Prob'],pos_label='Active')\n",
    "    pr_auc_ann=auc(recall_ann,precision_ann)\n",
    "    PR_AUC_ann.append(pr_auc_ann)\n",
    "\n",
    "    print(f'{i+1}-PR_AUC:{pr_auc_ann}')"
   ]
  },
  {
   "cell_type": "code",
   "execution_count": null,
   "id": "af2dae4b-ce61-4db0-934c-5d2401a1786d",
   "metadata": {},
   "outputs": [],
   "source": [
    "ann_precision_recall=pd.DataFrame({'Precision':precision_ann,'Recall':recall_ann})\n",
    "feature_result_ann.to_csv('/home/pathway/ann_result.csv',index=False)\n",
    "ann_precision_recall.to_csv('/home/pathway/ann_precison_recall.csv',index=False)"
   ]
  },
  {
   "cell_type": "markdown",
   "id": "9dfb0603-d9de-4e30-a514-8203bd9a17fb",
   "metadata": {},
   "source": [
    "### SVM"
   ]
  },
  {
   "cell_type": "code",
   "execution_count": null,
   "id": "27f9f153-d5ec-4970-b9da-67439130196a",
   "metadata": {},
   "outputs": [],
   "source": [
    "PR_AUC_svm=[]\n",
    "for i in range(10):\n",
    "    random_seed=np.random.randint(0,1000)\n",
    "    train_plec,Train_class=shuffle(train_plec,Train_class,random_state=random_seed)\n",
    "    test_plec,Test_class=shuffle(test_plec,Test_class,random_state=random_seed)\n",
    "    svm_model=SVC(degree=3,kernel='rbf',probability=True,random_state=random_seed)\n",
    "    svm_model.fit(train_plec,Train_class)\n",
    "\n",
    "    predicition_test_svm_class=svm_model.predict(test_plec)\n",
    "    predicition_test_svm_prob=svm_model.predict_proba(test_plec)\n",
    "\n",
    "    feature_result_svm=pd.DataFrame({'Active_Prob':predicition_test_svm_prob[:,0],\n",
    "                                'Inactive_Prob':predicition_test_svm_prob[:,1],\n",
    "                                'Predicted_Class':predicition_test_svm_class,\n",
    "                                'Real_Class':Test_class})\n",
    "\n",
    "    precision_svm,recall_svm,threshold_svm=precision_recall_curve(Test_class,feature_result_svm['Active_Prob'],pos_label='Active')\n",
    "    pr_auc_svm=auc(recall_svm,precision_svm)\n",
    "    PR_AUC_svm.append(pr_auc_svm)\n",
    "\n",
    "    print(f'{i+1}-PR_AUC:{pr_auc_svm}')"
   ]
  },
  {
   "cell_type": "code",
   "execution_count": null,
   "id": "edfb68f2-3275-4ba3-b82e-9032a22199cc",
   "metadata": {},
   "outputs": [],
   "source": [
    "svm_precision_recall=pd.DataFrame({'Precision':precision_svm,'Recall':recall_svm})\n",
    "feature_result_svm.to_csv('/home/wangbo/pathway/svm_result.csv',index=False)\n",
    "svm_precision_recall.to_csv('/home/wangbo/pathway/svm_precison_recall.csv',index=False)"
   ]
  },
  {
   "cell_type": "markdown",
   "id": "10dd69a9-2e93-470d-85e3-31af30bfb369",
   "metadata": {},
   "source": [
    "# ConvMol-GCN"
   ]
  },
  {
   "cell_type": "markdown",
   "id": "cf9ac579-e409-46b3-9592-3b5626d0717b",
   "metadata": {},
   "source": [
    "### GCN"
   ]
  },
  {
   "cell_type": "code",
   "execution_count": null,
   "id": "9ab249a8-7f2b-4839-b0e8-506e65314009",
   "metadata": {},
   "outputs": [],
   "source": [
    "def convert_to_torch_geometric_with_labels(adjacency_matrices, node_features, labels):\n",
    "    torch_geometric_data_list = []\n",
    "    for adj, features, label in zip(adjacency_matrices, node_features, labels):\n",
    "        edge_index = torch.tensor(np.array(np.nonzero(adj)), dtype=torch.long)\n",
    "        x = torch.tensor(features, dtype=torch.float)\n",
    "        batch = torch.zeros(x.size(0), dtype=torch.long)  # 单图情况，batch全为0\n",
    "        data = Data(x=x, edge_index=edge_index, y=label, batch=batch)\n",
    "        torch_geometric_data_list.append(data)\n",
    "    return torch_geometric_data_list"
   ]
  },
  {
   "cell_type": "code",
   "execution_count": null,
   "id": "8d628940-35a1-4d90-b202-578021dd1057",
   "metadata": {},
   "outputs": [],
   "source": [
    "train_data_list = convert_to_torch_geometric_with_labels(train_adj, train_node, train_labels)\n",
    "test_data_list = convert_to_torch_geometric_with_labels(test_adj, test_node, test_labels)\n",
    "train_data_list, val_data_list, train_labels_split, val_labels_split = train_test_split(\n",
    "train_data_list, train_labels, test_size=0.2, random_state=42)"
   ]
  },
  {
   "cell_type": "code",
   "execution_count": null,
   "id": "1c8be863-6f26-4f52-9467-5ab28c7a379d",
   "metadata": {},
   "outputs": [],
   "source": [
    "class GCNModel(torch.nn.Module):\n",
    "    def __init__(self, num_node_features):\n",
    "        super(GCNModel, self).__init__()\n",
    "        self.conv1 = GCNConv(num_node_features, 64)\n",
    "        self.conv2 = GCNConv(64, 64)\n",
    "        self.fc1 = torch.nn.Linear(64, 128)\n",
    "        self.fc2 = torch.nn.Linear(128, 1)  \n",
    "        self.dropout = torch.nn.Dropout(0.5)\n",
    "\n",
    "    def forward(self, data):\n",
    "        x, edge_index = data.x, data.edge_index\n",
    "        x = F.relu(self.conv1(x, edge_index))\n",
    "        x = F.relu(self.conv2(x, edge_index))\n",
    "        x = global_mean_pool(x, data.batch)\n",
    "        x = F.relu(self.fc1(x))\n",
    "        x = self.dropout(x)\n",
    "        x = self.fc2(x)  \n",
    "        return torch.sigmoid(x).squeeze()  "
   ]
  },
  {
   "cell_type": "code",
   "execution_count": null,
   "id": "f27d935d-f997-4206-b993-7952c640f2fa",
   "metadata": {},
   "outputs": [],
   "source": [
    "def train(model, train_loader, optimizer, device, num_epochs=100, val_loader=None):\n",
    "    model.train()\n",
    "    best_val_loss = float('inf')\n",
    "    best_model_state = None\n",
    "\n",
    "    for epoch in range(num_epochs):\n",
    "        epoch_loss = 0\n",
    "        model.to(device)\n",
    "        for data in train_loader:\n",
    "            data = data.to(device)\n",
    "            optimizer.zero_grad()\n",
    "            out = model(data)\n",
    "            loss = F.binary_cross_entropy(out, data.y.float())  \n",
    "            loss.backward()\n",
    "            torch.nn.utils.clip_grad_norm_(model.parameters(), max_norm=2.0)\n",
    "            optimizer.step()\n",
    "            epoch_loss += loss.item()\n",
    "\n",
    "        if val_loader:\n",
    "            val_loss = 0\n",
    "            all_val_y_true = []\n",
    "            all_val_y_scores = []\n",
    "            model.eval()\n",
    "            with torch.no_grad():\n",
    "                for val_data in val_loader:\n",
    "                    val_data = val_data.to(device)\n",
    "                    val_out = model(val_data)\n",
    "                    val_loss += F.binary_cross_entropy(val_out, val_data.y.float()).item()\n",
    "                    all_val_y_true.extend(val_data.y.cpu().numpy())\n",
    "                    all_val_y_scores.extend(val_out.cpu().numpy())\n",
    "            \n",
    "            val_pr_auc = auc(\n",
    "                precision_recall_curve(all_val_y_true, all_val_y_scores, pos_label=1)[1::-1]\n",
    "            )  \n",
    "\n",
    "            if val_loss < best_val_loss:\n",
    "                best_val_loss = val_loss\n",
    "                best_model_state = model.state_dict()\n",
    "\n",
    "    return best_model_state,val_pr_auc\n",
    "\n",
    "def test(model, data_loader, device):\n",
    "    model.eval() \n",
    "    all_y_true = []\n",
    "    all_y_scores = []\n",
    "\n",
    "    with torch.no_grad():\n",
    "        for data in data_loader:\n",
    "            data = data.to(device)\n",
    "            out = model(data) \n",
    "\n",
    "            y_true = data.y.cpu().numpy() \n",
    "            y_scores = out.cpu().numpy()  \n",
    "\n",
    "            all_y_true.extend(y_true)\n",
    "            all_y_scores.extend(y_scores)\n",
    "\n",
    "    return np.array(all_y_true), np.array(all_y_scores)"
   ]
  },
  {
   "cell_type": "code",
   "execution_count": null,
   "id": "2e74e890-5b86-4310-9830-39ad7a7ae6ba",
   "metadata": {},
   "outputs": [],
   "source": [
    "def run_experiment(train_data_list,test_data_list, num_runs=10,device):\n",
    "    PR_AUC_gcn = []\n",
    "    val_pr_auc_results = []\n",
    "    num_node_features = train_data_list[0].x.shape[1]  \n",
    "    num_classes = 2  \n",
    "\n",
    "    for run in range(num_runs):\n",
    "        torch.manual_seed(run)  \n",
    "\n",
    "        train_loader = DataLoader(train_data_list, batch_size=32, shuffle=True)\n",
    "        test_loader = DataLoader(test_data_list, batch_size=32, shuffle=False)\n",
    "\n",
    "        model = GCNModel(num_node_features=num_node_features, num_classes=num_classes)\n",
    "        optimizer = torch.optim.Adam(model.parameters(), lr=0.001, weight_decay=1e-4)\n",
    "\n",
    "        train(model, train_loader, optimizer, num_epochs=100)\n",
    "\n",
    "        y_true, y_scores = test(model, test_loader)\n",
    "\n",
    "        # 计算PR-AUC\n",
    "        precision, recall, _ = precision_recall_curve(y_true, y_scores, pos_label=1)\n",
    "        pr_auc = auc(recall, precision)\n",
    "        PR_AUC_gcn.append(pr_auc)\n",
    "\n",
    "        print(f'Run {run + 1} - PR-AUC: {pr_auc}')\n",
    "        \n",
    "    return PR_AUC_gcn,y_true, y_scores"
   ]
  },
  {
   "cell_type": "code",
   "execution_count": null,
   "id": "cd5c53de-c314-4bdb-83b0-4e619f1a753c",
   "metadata": {},
   "outputs": [],
   "source": [
    "PR_AUC_gcn,y_true, y_scores = run_experiment(train_data_list, train_labels, num_runs=10,device)"
   ]
  },
  {
   "cell_type": "code",
   "execution_count": null,
   "id": "4d44296d-bd3d-42ff-bd30-9f60b9d52afb",
   "metadata": {},
   "outputs": [],
   "source": [
    "predicted_class = np.where(y_scores == 1, 1, 0)\n",
    "feature_result_gcn = pd.DataFrame({\n",
    "    'Active_Prob': y_scores,\n",
    "    'Inactive_Prob': 1 - y_scores,\n",
    "    'Predicted_Class': np.where(predicted_class == 1, 'Active', 'Inactive'),\n",
    "    'Real_Class': np.where(y_true == 1, 'Active', 'Inactive')\n",
    "})"
   ]
  },
  {
   "cell_type": "code",
   "execution_count": null,
   "id": "2dfd2247-9bb4-48c5-b42c-4e13908f1cf1",
   "metadata": {},
   "outputs": [],
   "source": [
    "precision_gcn, recall_gcn, threshold_gcn = precision_recall_curve(y_true, y_scores, pos_label=1)\n",
    "gcn_precision_recall=pd.DataFrame({'Precision':precision_gcn,'Recall':recall_gcn})\n",
    "gcn_precision_recall.to_csv('/home/pathway/gcn_precison_recall.csv',index=False)\n",
    "feature_result_gcn.to_csv('/home/pathway/gcn_result.csv',index=False)"
   ]
  },
  {
   "cell_type": "markdown",
   "id": "fae0ca8c-ed10-463c-af19-c360b5b8262d",
   "metadata": {},
   "source": [
    "# Save the results"
   ]
  },
  {
   "cell_type": "code",
   "execution_count": null,
   "id": "883ec8d0-d498-4a56-a83a-e561615c1ea4",
   "metadata": {},
   "outputs": [],
   "source": [
    "PR_AUC=DataFrame(pr_auc_rf)\n",
    "PR_AUC.rename(columns={0:'RF'},inplace=True)\n",
    "PR_AUC['ANN']=PR_AUC_ann\n",
    "PR_AUC['XGB']=PR_AUC_xgb\n",
    "PR_AUC['SVM']=PR_AUC_svm\n",
    "PR_AUC['GCN']=PR_AUC_gcn"
   ]
  },
  {
   "cell_type": "code",
   "execution_count": null,
   "id": "c215af8f-3fb0-47de-b6b6-892108e8cd51",
   "metadata": {},
   "outputs": [],
   "source": [
    "PR_AUC.to_csv('/home/pathway/PR_AUC_10.csv',index=None)"
   ]
  }
 ],
 "metadata": {
  "kernelspec": {
   "display_name": "python3.7.12",
   "language": "python",
   "name": "python3.7.12"
  },
  "language_info": {
   "codemirror_mode": {
    "name": "ipython",
    "version": 3
   },
   "file_extension": ".py",
   "mimetype": "text/x-python",
   "name": "python",
   "nbconvert_exporter": "python",
   "pygments_lexer": "ipython3",
   "version": "3.7.12"
  }
 },
 "nbformat": 4,
 "nbformat_minor": 5
}
